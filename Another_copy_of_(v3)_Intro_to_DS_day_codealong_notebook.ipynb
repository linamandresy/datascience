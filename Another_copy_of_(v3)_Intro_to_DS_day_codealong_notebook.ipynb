{
  "nbformat": 4,
  "nbformat_minor": 0,
  "metadata": {
    "colab": {
      "provenance": [],
      "toc_visible": true,
      "include_colab_link": true
    },
    "kernelspec": {
      "display_name": "Python 3",
      "language": "python",
      "name": "python3"
    },
    "language_info": {
      "codemirror_mode": {
        "name": "ipython",
        "version": 3
      },
      "file_extension": ".py",
      "mimetype": "text/x-python",
      "name": "python",
      "nbconvert_exporter": "python",
      "pygments_lexer": "ipython3",
      "version": "3.8.8"
    }
  },
  "cells": [
    {
      "cell_type": "markdown",
      "metadata": {
        "id": "view-in-github",
        "colab_type": "text"
      },
      "source": [
        "<a href=\"https://colab.research.google.com/github/linamandresy/datascience/blob/master/Another_copy_of_(v3)_Intro_to_DS_day_codealong_notebook.ipynb\" target=\"_parent\"><img src=\"https://colab.research.google.com/assets/colab-badge.svg\" alt=\"Open In Colab\"/></a>"
      ]
    },
    {
      "cell_type": "markdown",
      "metadata": {
        "id": "fBKDBcT4nh1u"
      },
      "source": [
        "# BrainStation Data Science Intro Day"
      ]
    },
    {
      "cell_type": "markdown",
      "metadata": {
        "id": "ezGtw-g2aszl"
      },
      "source": [
        "## **Session 1: Basic Python & DataFrames**"
      ]
    },
    {
      "cell_type": "markdown",
      "metadata": {
        "id": "m06nep53nh1w"
      },
      "source": [
        "Here we will cover some of the fundamentals of python leading up to working with data. Python can print outputs:"
      ]
    },
    {
      "cell_type": "code",
      "metadata": {
        "id": "EOlmO7kcgFFZ",
        "scrolled": true
      },
      "source": [
        "print('hello world!')"
      ],
      "execution_count": null,
      "outputs": []
    },
    {
      "cell_type": "markdown",
      "metadata": {
        "id": "pAQRGGBynh1y"
      },
      "source": [
        "It can also do basic mathematical operations like a calculator:"
      ]
    },
    {
      "cell_type": "code",
      "metadata": {
        "id": "T1P5P-57gGR-"
      },
      "source": [
        "2+2"
      ],
      "execution_count": null,
      "outputs": []
    },
    {
      "cell_type": "code",
      "metadata": {
        "id": "iVgmxm4jgGa9"
      },
      "source": [
        "print(2+2)\n",
        "print(2-2)\n",
        "print(2*2)\n",
        "print(2/2)"
      ],
      "execution_count": null,
      "outputs": []
    },
    {
      "cell_type": "markdown",
      "metadata": {
        "id": "OJbbcO9yhP9z"
      },
      "source": [
        "Pieces of data (like \"hello\" or 3.14 or True or 55) can be saved in **variables**. This makes it easier to reference them in our code later on:"
      ]
    },
    {
      "cell_type": "code",
      "metadata": {
        "id": "zIcNweQDgG4-"
      },
      "source": [
        "# We make variable assignments with a single equals sign, =\n",
        "x = 55"
      ],
      "execution_count": null,
      "outputs": []
    },
    {
      "cell_type": "code",
      "metadata": {
        "id": "ype3MS4VgG8a"
      },
      "source": [
        "print(x)"
      ],
      "execution_count": null,
      "outputs": []
    },
    {
      "cell_type": "code",
      "metadata": {
        "id": "CMsWVZZKgHAq"
      },
      "source": [
        "print(x*3)"
      ],
      "execution_count": null,
      "outputs": []
    },
    {
      "cell_type": "code",
      "metadata": {
        "id": "Rj2r69FkgHDf"
      },
      "source": [
        "y = 'hello'"
      ],
      "execution_count": null,
      "outputs": []
    },
    {
      "cell_type": "code",
      "metadata": {
        "id": "bCTh9EJfgHG1"
      },
      "source": [
        "print(y)"
      ],
      "execution_count": null,
      "outputs": []
    },
    {
      "cell_type": "code",
      "metadata": {
        "id": "Bv3k9ojJh6NS"
      },
      "source": [
        "print(y*3)"
      ],
      "execution_count": null,
      "outputs": []
    },
    {
      "cell_type": "code",
      "metadata": {
        "id": "_hhE5oc7h6Wn"
      },
      "source": [
        "print(x, y)"
      ],
      "execution_count": null,
      "outputs": []
    },
    {
      "cell_type": "markdown",
      "metadata": {
        "id": "f4Io-mf3h6lw"
      },
      "source": [
        "### **Errors**\n",
        "\n",
        "We will regularly encounter errors when we're working in Python, and you shouldn't be afraid of them! They're informative and they help us figure out what might be going wrong in our code."
      ]
    },
    {
      "cell_type": "code",
      "metadata": {
        "id": "yNZjXN_Ch6pI"
      },
      "source": [
        "# we get a Type error when trying to add an integer and a string\n",
        "x + y"
      ],
      "execution_count": null,
      "outputs": []
    },
    {
      "cell_type": "code",
      "metadata": {
        "id": "I8uSGeqMndcT"
      },
      "source": [
        "print(100.0/0)"
      ],
      "execution_count": null,
      "outputs": []
    },
    {
      "cell_type": "markdown",
      "metadata": {
        "id": "K_nYNqUTh6rl"
      },
      "source": [
        "### **Lists**\n",
        "\n",
        "Lists are a type of \"container\" in Python (technically, a *data structure* which is an array - a sequence of ordered or unordered values stored in memory). They help us hold more than one data element at a time."
      ]
    },
    {
      "cell_type": "code",
      "metadata": {
        "id": "AUbtYDgTh6uZ"
      },
      "source": [
        "# we create lists by enclosing our data in square brackets, []\n",
        "my_list = [1, 2, 3]"
      ],
      "execution_count": null,
      "outputs": []
    },
    {
      "cell_type": "code",
      "metadata": {
        "id": "TiyReI2oh6xB"
      },
      "source": [
        "print(my_list)"
      ],
      "execution_count": null,
      "outputs": []
    },
    {
      "cell_type": "code",
      "metadata": {
        "id": "omNaNgI6h60i"
      },
      "source": [
        "# Lists can hold any type of data\n",
        "another_list = [\"bitcoin\", 188.7, False]\n",
        "\n",
        "print(another_list)"
      ],
      "execution_count": null,
      "outputs": []
    },
    {
      "cell_type": "markdown",
      "metadata": {
        "id": "KUqD3QF3h68g"
      },
      "source": [
        "We can access individual items from our lists using square bracket indexing. Python starts its index counts at 0:"
      ]
    },
    {
      "cell_type": "code",
      "metadata": {
        "id": "RZLs8PD-h6_J"
      },
      "source": [
        "another_list[0]"
      ],
      "execution_count": null,
      "outputs": []
    },
    {
      "cell_type": "code",
      "metadata": {
        "id": "0ZF05hb3h7Cv"
      },
      "source": [
        "another_list[1]"
      ],
      "execution_count": null,
      "outputs": []
    },
    {
      "cell_type": "code",
      "metadata": {
        "id": "8-aCg_XWh7Eh"
      },
      "source": [
        "another_list[2]"
      ],
      "execution_count": null,
      "outputs": []
    },
    {
      "cell_type": "markdown",
      "metadata": {
        "id": "y1-q4g4Zh7J5"
      },
      "source": [
        "### **Looping**\n",
        "\n",
        "This is a technique that we can use to access each list item one-at-a-time, in succession. For example, rather than printing out each list item manually like we did above, we could use a loop:"
      ]
    },
    {
      "cell_type": "code",
      "metadata": {
        "id": "zbUFbrtKh7MO"
      },
      "source": [
        "for item in another_list:\n",
        "    print(item)"
      ],
      "execution_count": null,
      "outputs": []
    },
    {
      "cell_type": "code",
      "metadata": {
        "id": "lQGO-xMeh7Pa"
      },
      "source": [
        "# Note that the loop variable name we choose is totally up to us.\n",
        "# This is the exact same loop as above\n",
        "for whatever in another_list:\n",
        "    print(whatever)"
      ],
      "execution_count": null,
      "outputs": []
    },
    {
      "cell_type": "markdown",
      "metadata": {
        "id": "oiY_UBVYh7Se"
      },
      "source": [
        "We'll explore 2 Python packages for working with data. The first is called **Pandas**, and gives us the ability to load in, manipulate and analyze tables of data. The second is called **Seaborn**, which is a package dedicated to data visualization.\n",
        "\n",
        "First thing's first, we'll need to load in some data. We can read in data directly with pandas from cloud storage in Google Drive!"
      ]
    },
    {
      "cell_type": "code",
      "metadata": {
        "id": "foU5Fjj-blcd"
      },
      "source": [
        "# Let's import the packages we need to use\n",
        "import pandas as pd"
      ],
      "execution_count": null,
      "outputs": []
    },
    {
      "cell_type": "code",
      "metadata": {
        "id": "vtqMF9dSxaoP"
      },
      "source": [
        "# Read in the data from Google Drive\n",
        "url='https://drive.google.com/uc?id=1wLuyOzM81IjBSwLflfB54CSx6KxY5NAe'\n",
        "df = pd.read_csv(url)"
      ],
      "execution_count": null,
      "outputs": []
    },
    {
      "cell_type": "code",
      "metadata": {
        "id": "QEuIqZKwxvg3"
      },
      "source": [
        "# Take a look\n",
        "df.head()"
      ],
      "execution_count": null,
      "outputs": []
    },
    {
      "cell_type": "markdown",
      "metadata": {
        "id": "laRUVCjvp6aY"
      },
      "source": [
        "This dataset is collected from Spotify's API. We requested data about songs from any artist whose artist contains `Drake`, `Britney Spears` or `Led Zeppelin`.\n",
        "\n",
        "Spotify's API returns a rich set of data about each song's audio properties. These are the audio qualities they use to capture a song's feel and generate playlists geared to a user's tastes.\n",
        "\n",
        "**Our investigative goal:** What are the audio attributes that distiguish these three artists from one another?"
      ]
    },
    {
      "cell_type": "markdown",
      "metadata": {
        "id": "PQ3u70D-GcAd"
      },
      "source": [
        "## **Session 2: Exploring data & identifying trends**"
      ]
    },
    {
      "cell_type": "code",
      "metadata": {
        "id": "tZ62B1UqGcAd"
      },
      "source": [
        "# Remind ourselves of the dataset\n",
        "df.head()"
      ],
      "execution_count": null,
      "outputs": []
    },
    {
      "cell_type": "code",
      "metadata": {
        "id": "OcP38-hGv52-"
      },
      "source": [
        "# How many rows and columns?\n",
        "df.shape"
      ],
      "execution_count": null,
      "outputs": []
    },
    {
      "cell_type": "code",
      "metadata": {
        "id": "S6vfXpkEbmDB"
      },
      "source": [
        "df.info()"
      ],
      "execution_count": null,
      "outputs": []
    },
    {
      "cell_type": "markdown",
      "metadata": {
        "id": "sQCkviOzrAIO"
      },
      "source": [
        "Looks like we have a lot of numerical attributes. Let's get a feel for them."
      ]
    },
    {
      "cell_type": "code",
      "metadata": {
        "id": "oGnhKlEEbmGv"
      },
      "source": [
        "df.describe()"
      ],
      "execution_count": null,
      "outputs": []
    },
    {
      "cell_type": "markdown",
      "metadata": {
        "id": "pnY7suX9bmNA"
      },
      "source": [
        "Let's explore some of these columns. We'll check the top songs across a few of them."
      ]
    },
    {
      "cell_type": "code",
      "metadata": {
        "id": "LilpEgAi9f_1"
      },
      "source": [
        "df.sort_values(by='popularity', ascending=False)"
      ],
      "execution_count": null,
      "outputs": []
    },
    {
      "cell_type": "code",
      "metadata": {
        "id": "VgT32JUwbmPQ"
      },
      "source": [
        "df.sort_values(by='duration_ms', ascending=False)"
      ],
      "execution_count": null,
      "outputs": []
    },
    {
      "cell_type": "markdown",
      "metadata": {
        "id": "bQuxdREpbmTA"
      },
      "source": [
        "Hmmm... we notice here that duration is tracked in milliseconds. This is useful in some cases, but not very interpretable to a human reader. We'll calculate a new column for duration in minutes."
      ]
    },
    {
      "cell_type": "code",
      "metadata": {
        "id": "0x25qF13bmU7"
      },
      "source": [
        "# Calculate duration in minutes (1 min = 60 seconds = 60,000 ms)\n",
        "df['duration_mins'] = df['duration_ms'] / 1000 / 60"
      ],
      "execution_count": null,
      "outputs": []
    },
    {
      "cell_type": "code",
      "metadata": {
        "id": "ribXnLEObmXa"
      },
      "source": [
        "df[['name', 'artists', 'duration_mins']]"
      ],
      "execution_count": null,
      "outputs": []
    },
    {
      "cell_type": "code",
      "metadata": {
        "id": "s-WN3NoDtQlL"
      },
      "source": [
        "# Let's round those numbers\n",
        "df['duration_mins'] = round(df['duration_mins'], 2)"
      ],
      "execution_count": null,
      "outputs": []
    },
    {
      "cell_type": "code",
      "metadata": {
        "id": "dJgenXp7tpQx"
      },
      "source": [
        "df[['name', 'artists', 'duration_mins']].sort_values(by='duration_mins', ascending=False)"
      ],
      "execution_count": null,
      "outputs": []
    },
    {
      "cell_type": "code",
      "metadata": {
        "id": "Tj9CGy5dbm2B"
      },
      "source": [
        "# How many songs from each artist?\n",
        "df['artists'].value_counts()"
      ],
      "execution_count": null,
      "outputs": []
    },
    {
      "cell_type": "markdown",
      "metadata": {
        "id": "kkaOsnk4GcAf"
      },
      "source": [
        "This is messy!\n",
        "\n",
        "Notice how Drake/Lil Wayne is being counted as a different artist than Lil Wayne/Drake. And in fact, any song with more than one artist is being counted separately than the main artist themselves.\n",
        "\n",
        "Luckily we have a column called `main_artist`, otherwise this dataset would require some careful cleaning:"
      ]
    },
    {
      "cell_type": "code",
      "metadata": {
        "id": "TP6_sjRmRfUz"
      },
      "source": [
        "df['main_artist'].value_counts()"
      ],
      "execution_count": null,
      "outputs": []
    },
    {
      "cell_type": "markdown",
      "metadata": {
        "id": "WCfghucS0gpB"
      },
      "source": [
        "Let's proceed with some visual exploration of the features."
      ]
    },
    {
      "cell_type": "code",
      "metadata": {
        "id": "ceyLI7UMFyLw"
      },
      "source": [
        "df.columns"
      ],
      "execution_count": null,
      "outputs": []
    },
    {
      "cell_type": "markdown",
      "metadata": {
        "id": "McPKWyVPWan4"
      },
      "source": [
        "We will import [matplotlib](https://matplotlib.org/) and [seaborn](https://seaborn.pydata.org/) to help us with our visualizations. Some matplotlib code is built into pandas so we can visualize directly from a dataframe:"
      ]
    },
    {
      "cell_type": "code",
      "metadata": {
        "id": "DlRZYgcCnh19"
      },
      "source": [
        "import matplotlib.pyplot as plt\n",
        "import seaborn as sns\n",
        "\n",
        "# Calculate the count per main artist, sort in descending order and plot\n",
        "df['main_artist'].value_counts().sort_values().plot(kind='barh')\n",
        "# Add axes labels and title and plot\n",
        "plt.title('Count of Total Songs by Main Artist')\n",
        "plt.ylabel('Main Artist')\n",
        "plt.xlabel('Count of Songs')\n",
        "plt.show()"
      ],
      "execution_count": null,
      "outputs": []
    },
    {
      "cell_type": "markdown",
      "metadata": {
        "id": "Zzf-Udr-nh19"
      },
      "source": [
        "For numerical columns (like `popularity` and most of our other song metrics), our best visual is a histogram which shows the count of songs across the range of values for each metric. We can do these using a single line from seaborn:"
      ]
    },
    {
      "cell_type": "code",
      "metadata": {
        "id": "ocB3xvMy0h98"
      },
      "source": [
        "import seaborn as sns\n",
        "import matplotlib.pyplot as plt\n",
        "\n",
        "# Histogram of popularity values\n",
        "sns.histplot(x='popularity', data=df);"
      ],
      "execution_count": null,
      "outputs": []
    },
    {
      "cell_type": "code",
      "metadata": {
        "id": "_Q7gzEPY0iIi"
      },
      "source": [
        "# Histogram of 'explicit' values\n",
        "sns.histplot(x='explicit', data=df);"
      ],
      "execution_count": null,
      "outputs": []
    },
    {
      "cell_type": "code",
      "source": [
        "for artist in df.main_artist.unique():\n",
        "  artist_df = df[df.main_artist == artist]\n",
        "  plt.title(f'Explicit song count: {artist}')\n",
        "  artist_df['explicit'].value_counts().plot(kind = 'barh')\n",
        "  plt.show()"
      ],
      "metadata": {
        "id": "fdKNjcFcOuMI"
      },
      "execution_count": null,
      "outputs": []
    },
    {
      "cell_type": "code",
      "metadata": {
        "id": "wBg1YelB0iPG"
      },
      "source": [
        "sns.histplot(x='duration_mins', data=df);"
      ],
      "execution_count": null,
      "outputs": []
    },
    {
      "cell_type": "code",
      "metadata": {
        "id": "rNvvnkYI0iT4"
      },
      "source": [
        "sns.histplot(x='release_date', data=df);"
      ],
      "execution_count": null,
      "outputs": []
    },
    {
      "cell_type": "markdown",
      "metadata": {
        "id": "qhT_JviD0iYK"
      },
      "source": [
        "Hmm... might be more interesting to look at distribution of release year, or release month, rather than day-by-day distributions."
      ]
    },
    {
      "cell_type": "code",
      "source": [
        "df = df[df['release_date'].str.len() >= 5]"
      ],
      "metadata": {
        "id": "W77GnNNKVdXj"
      },
      "execution_count": null,
      "outputs": []
    },
    {
      "cell_type": "code",
      "metadata": {
        "id": "E3YMcybs0icd"
      },
      "source": [
        "# Engineer a new column for release year and release month\n",
        "df['release_date'] = pd.to_datetime(df['release_date'])"
      ],
      "execution_count": null,
      "outputs": []
    },
    {
      "cell_type": "code",
      "metadata": {
        "id": "Hgr_fLmE0ihz"
      },
      "source": [
        "sns.histplot(x='release_date', data=df, bins=20);"
      ],
      "execution_count": null,
      "outputs": []
    },
    {
      "cell_type": "code",
      "metadata": {
        "id": "jxFjIxHf0im-"
      },
      "source": [
        "sns.histplot(df['release_date'].dt.month);"
      ],
      "execution_count": null,
      "outputs": []
    },
    {
      "cell_type": "markdown",
      "metadata": {
        "id": "J4ohz2xm0irv"
      },
      "source": [
        "Look how similar our code is for visualizing these columns! The only thing we need to change in each command is the column name. This is an opportunity to use loops to make our exploration more efficient!"
      ]
    },
    {
      "cell_type": "code",
      "metadata": {
        "id": "rBt7JBjD0ivp"
      },
      "source": [
        "# We already have list of column names\n",
        "df.columns"
      ],
      "execution_count": null,
      "outputs": []
    },
    {
      "cell_type": "code",
      "metadata": {
        "id": "1NFArrNrHtyb"
      },
      "source": [
        "# Let's be more selective though\n",
        "\n",
        "# Define a list of interesting columns of numerical data\n",
        "interesting_columns = ['danceability', 'energy', 'key', 'loudness', 'mode', 'speechiness',\n",
        "                       'acousticness', 'instrumentalness', 'liveness', 'valence', 'tempo']\n",
        "\n",
        "# Loop through this list, creating a histogram of each one\n",
        "for col in interesting_columns:\n",
        "\n",
        "    # Plot\n",
        "    sns.histplot(x=col, data=df, bins=20)\n",
        "    plt.title(col)\n",
        "    plt.show()\n",
        "\n",
        "    print('\\n')"
      ],
      "execution_count": null,
      "outputs": []
    },
    {
      "cell_type": "markdown",
      "metadata": {
        "id": "PSsZs9LjZfcY"
      },
      "source": [
        "Remember our investigative goal: What are the audio attributes that distiguish these three artists from one another?\n",
        "\n",
        "Let's start to see **how these attributes differ by artist**. We'll filter our set of columns to just these core audio attributes:"
      ]
    },
    {
      "cell_type": "code",
      "metadata": {
        "id": "8ozIos5oUWi4"
      },
      "source": [
        "df.columns"
      ],
      "execution_count": null,
      "outputs": []
    },
    {
      "cell_type": "code",
      "metadata": {
        "id": "0D7IKfY4TcdG"
      },
      "source": [
        "audio_columns = ['popularity', 'duration_mins', 'key', 'danceability', 'energy', 'loudness',\n",
        "                 'speechiness', 'acousticness', 'instrumentalness', 'liveness', 'valence', 'tempo',\n",
        "                 'time_signature']"
      ],
      "execution_count": null,
      "outputs": []
    },
    {
      "cell_type": "markdown",
      "metadata": {
        "id": "JEsFWo51aPAB"
      },
      "source": [
        "We can do this investigation using data visualization. Let's make a bar chart of average popularity per artist. Any hypotheses to start?"
      ]
    },
    {
      "cell_type": "code",
      "metadata": {
        "id": "DbUwjFK8aWzX"
      },
      "source": [
        "sns.barplot(x='main_artist', y='popularity', data=df);"
      ],
      "execution_count": null,
      "outputs": []
    },
    {
      "cell_type": "markdown",
      "metadata": {
        "id": "Ms0Iim91ajWT"
      },
      "source": [
        "The bar height represents the average popularity score, and the black lines represent the standard deviation of the popularity scores.\n",
        "\n",
        "Looks like despite Led Zeppelin being the least popular overall by Spotify standards, Britney songs have a wider range in popularity.\n",
        "\n",
        "If we want a more granular look at these metrics, we can turn to statistical plots like a boxplot:"
      ]
    },
    {
      "cell_type": "code",
      "metadata": {
        "id": "xN8j7EpyWi3V"
      },
      "source": [
        "sns.boxplot(x='main_artist', y='popularity', data=df);"
      ],
      "execution_count": null,
      "outputs": []
    },
    {
      "cell_type": "markdown",
      "metadata": {
        "id": "Djn7enMNcNuD"
      },
      "source": [
        "Boxplots show us the median, 1st and 3rd quartile of our data -- great for understanding its central tendencies. The \"whiskers\" show us the extent of the data up until seaborn determines we've entered the range of outlier points, which are represented by individual dots. (1.5 * the interquartile range). Boxplots are a much more condensed way of depicting information about a distribution of a variable across categories, as could be done with multiple histograms as below:"
      ]
    },
    {
      "cell_type": "code",
      "metadata": {
        "id": "IH0b3BQ7nh1_"
      },
      "source": [
        "sns.displot(x='popularity', hue='main_artist', col='main_artist', data=df)\n",
        "plt.show()"
      ],
      "execution_count": null,
      "outputs": []
    },
    {
      "cell_type": "markdown",
      "metadata": {
        "id": "YGbyaP3e0-2h"
      },
      "source": [
        "We can go even further with a strip plot. Here each point is plotted for its corresponding y-value, separated on the x-axis into the categories as with the boxplot. The horizontal position of the point for each category is not important, only to allow us to see all the data with minimal overlapping. We can also control the size of the plotted points, here with the `s=3` argument."
      ]
    },
    {
      "cell_type": "code",
      "metadata": {
        "id": "_Uhgtv3R09oY"
      },
      "source": [
        "sns.stripplot(x='main_artist', y='popularity', data=df, s=3);"
      ],
      "execution_count": null,
      "outputs": []
    },
    {
      "cell_type": "code",
      "metadata": {
        "id": "Q4gJKqF2bCKO"
      },
      "source": [
        "# Let's do the same for duration\n",
        "sns.stripplot(x='main_artist', y='duration_mins', data=df, s=3)\n",
        "plt.ylim(0,10) # restricts the range of the y-axis from 0 to 10\n",
        "plt.show()"
      ],
      "execution_count": null,
      "outputs": []
    },
    {
      "cell_type": "markdown",
      "metadata": {
        "id": "0X4M46NL11xf"
      },
      "source": [
        "Notice how similar our code is across these visualizations again? All we need is to swap in a different column name in the `stripplot` function. Time to use more loops!"
      ]
    },
    {
      "cell_type": "code",
      "metadata": {
        "id": "P5_4sq2T2ANR"
      },
      "source": [
        "audio_columns"
      ],
      "execution_count": null,
      "outputs": []
    },
    {
      "cell_type": "code",
      "metadata": {
        "id": "4s6pN2sN2Cp9"
      },
      "source": [
        "# for each column name in our list\n",
        "for column in audio_columns:\n",
        "\n",
        "    # draw a strip plot with an informative title\n",
        "    sns.stripplot(x='main_artist', y = column, data=df, s=3)\n",
        "    plt.title(column)\n",
        "    plt.show()\n",
        "\n",
        "    # and print a blank line for extra space\n",
        "    print('\\n')"
      ],
      "execution_count": null,
      "outputs": []
    },
    {
      "cell_type": "markdown",
      "metadata": {
        "id": "BViI8N05Bswy"
      },
      "source": [
        "Looks like there’s clear differences between artists across some of these metrics. This makes me wonder: Given some song data from an unknown artist, could I predict which of these 3 it’s most likely to be?\n",
        "\n",
        "I suspect that if we **did** receive some of these audio statistics but didn't know which artist it belongs to, we could classify it. We can do that with only a few lines of code in [scikit-learn](https://scikit-learn.org/stable/), the machine learning package for python:"
      ]
    },
    {
      "cell_type": "code",
      "metadata": {
        "id": "IU6rJ5bDnh2A"
      },
      "source": [
        "from sklearn.linear_model import LogisticRegression\n",
        "\n",
        "# Pull out the main artist as the target to be predicted and the audio columns\n",
        "y = df['main_artist']\n",
        "X = df[audio_columns]\n",
        "\n",
        "# Instantiate and fit a model\n",
        "lr = LogisticRegression(solver='liblinear')\n",
        "lr.fit(X, y)\n",
        "\n",
        "# Calculate the accuracy score (%)\n",
        "lr.score(X,y)*100.0"
      ],
      "execution_count": null,
      "outputs": []
    },
    {
      "cell_type": "markdown",
      "metadata": {
        "id": "JnPLLACPnh2A"
      },
      "source": [
        "Given the audio features provided, we can predict with ~92% accuracy which artist performed the song - amazing! And this is just scratching the surface of what machine learning can do..."
      ]
    }
  ]
}